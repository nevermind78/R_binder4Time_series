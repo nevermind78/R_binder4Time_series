{
 "cells": [
  {
   "cell_type": "code",
   "execution_count": 61,
   "metadata": {},
   "outputs": [
    {
     "data": {
      "text/html": [
       "'double'"
      ],
      "text/latex": [
       "'double'"
      ],
      "text/markdown": [
       "'double'"
      ],
      "text/plain": [
       "[1] \"double\""
      ]
     },
     "metadata": {},
     "output_type": "display_data"
    }
   ],
   "source": [
    "a <- c(1,2,3,4)\n",
    "typeof(a)"
   ]
  },
  {
   "cell_type": "code",
   "execution_count": 4,
   "metadata": {},
   "outputs": [
    {
     "data": {
      "text/html": [
       "'character'"
      ],
      "text/latex": [
       "'character'"
      ],
      "text/markdown": [
       "'character'"
      ],
      "text/plain": [
       "[1] \"character\""
      ]
     },
     "metadata": {},
     "output_type": "display_data"
    }
   ],
   "source": [
    "a <- c(1,2,3,4,\"hello\")\n",
    "typeof(a)"
   ]
  },
  {
   "cell_type": "code",
   "execution_count": 8,
   "metadata": {},
   "outputs": [
    {
     "data": {
      "text/html": [
       "<ol class=list-inline>\n",
       "\t<li>1</li>\n",
       "\t<li>3</li>\n",
       "\t<li>5</li>\n",
       "\t<li>7</li>\n",
       "\t<li>9</li>\n",
       "\t<li>11</li>\n",
       "\t<li>13</li>\n",
       "\t<li>15</li>\n",
       "</ol>\n"
      ],
      "text/latex": [
       "\\begin{enumerate*}\n",
       "\\item 1\n",
       "\\item 3\n",
       "\\item 5\n",
       "\\item 7\n",
       "\\item 9\n",
       "\\item 11\n",
       "\\item 13\n",
       "\\item 15\n",
       "\\end{enumerate*}\n"
      ],
      "text/markdown": [
       "1. 1\n",
       "2. 3\n",
       "3. 5\n",
       "4. 7\n",
       "5. 9\n",
       "6. 11\n",
       "7. 13\n",
       "8. 15\n",
       "\n",
       "\n"
      ],
      "text/plain": [
       "[1]  1  3  5  7  9 11 13 15"
      ]
     },
     "metadata": {},
     "output_type": "display_data"
    }
   ],
   "source": [
    "#slicing\n",
    " A <- seq(1,15,by=2)\n",
    "A"
   ]
  },
  {
   "cell_type": "code",
   "execution_count": 9,
   "metadata": {},
   "outputs": [
    {
     "data": {
      "text/html": [
       "<ol class=list-inline>\n",
       "\t<li>1</li>\n",
       "\t<li>3</li>\n",
       "\t<li>5</li>\n",
       "\t<li>7</li>\n",
       "\t<li>9</li>\n",
       "</ol>\n"
      ],
      "text/latex": [
       "\\begin{enumerate*}\n",
       "\\item 1\n",
       "\\item 3\n",
       "\\item 5\n",
       "\\item 7\n",
       "\\item 9\n",
       "\\end{enumerate*}\n"
      ],
      "text/markdown": [
       "1. 1\n",
       "2. 3\n",
       "3. 5\n",
       "4. 7\n",
       "5. 9\n",
       "\n",
       "\n"
      ],
      "text/plain": [
       "[1] 1 3 5 7 9"
      ]
     },
     "metadata": {},
     "output_type": "display_data"
    }
   ],
   "source": [
    "A[1:5]\n"
   ]
  },
  {
   "cell_type": "code",
   "execution_count": 10,
   "metadata": {},
   "outputs": [
    {
     "data": {
      "text/html": [
       "<ol class=list-inline>\n",
       "\t<li>3</li>\n",
       "\t<li>9</li>\n",
       "\t<li>15</li>\n",
       "</ol>\n"
      ],
      "text/latex": [
       "\\begin{enumerate*}\n",
       "\\item 3\n",
       "\\item 9\n",
       "\\item 15\n",
       "\\end{enumerate*}\n"
      ],
      "text/markdown": [
       "1. 3\n",
       "2. 9\n",
       "3. 15\n",
       "\n",
       "\n"
      ],
      "text/plain": [
       "[1]  3  9 15"
      ]
     },
     "metadata": {},
     "output_type": "display_data"
    }
   ],
   "source": [
    "A[c(2,5,8)]  # Notice what's it does.....c here concatenates"
   ]
  },
  {
   "cell_type": "code",
   "execution_count": 11,
   "metadata": {},
   "outputs": [
    {
     "data": {
      "text/html": [
       "<ol class=list-inline>\n",
       "\t<li>1</li>\n",
       "\t<li>&lt;NA&gt;</li>\n",
       "\t<li>5</li>\n",
       "\t<li>7</li>\n",
       "\t<li>&lt;NA&gt;</li>\n",
       "\t<li>11</li>\n",
       "\t<li>13</li>\n",
       "\t<li>&lt;NA&gt;</li>\n",
       "</ol>\n"
      ],
      "text/latex": [
       "\\begin{enumerate*}\n",
       "\\item 1\n",
       "\\item <NA>\n",
       "\\item 5\n",
       "\\item 7\n",
       "\\item <NA>\n",
       "\\item 11\n",
       "\\item 13\n",
       "\\item <NA>\n",
       "\\end{enumerate*}\n"
      ],
      "text/markdown": [
       "1. 1\n",
       "2. &lt;NA&gt;\n",
       "3. 5\n",
       "4. 7\n",
       "5. &lt;NA&gt;\n",
       "6. 11\n",
       "7. 13\n",
       "8. &lt;NA&gt;\n",
       "\n",
       "\n"
      ],
      "text/plain": [
       "[1]  1 NA  5  7 NA 11 13 NA"
      ]
     },
     "metadata": {},
     "output_type": "display_data"
    }
   ],
   "source": [
    "A[c(2,5,8)]=NA     # See what happens\n",
    "A"
   ]
  },
  {
   "cell_type": "code",
   "execution_count": 12,
   "metadata": {
    "collapsed": true
   },
   "outputs": [],
   "source": [
    "mat_y <- matrix(1:20, nrow=5,ncol=4) "
   ]
  },
  {
   "cell_type": "code",
   "execution_count": 13,
   "metadata": {
    "collapsed": true
   },
   "outputs": [],
   "source": [
    "mat_A <- matrix(seq(1:20),nrow=4,ncol=5,byrow=T,dimnames=list(c(\"row1\",\"row2\",\"row3\",\"row4\"),c(\"col1\",\"col2\",\"col3\",\"col4\",\n",
    "\"col5\")))\n",
    "#  byrow=T...in next command i'll check whats default..if not specified"
   ]
  },
  {
   "cell_type": "code",
   "execution_count": 14,
   "metadata": {},
   "outputs": [
    {
     "data": {
      "text/html": [
       "<table>\n",
       "<thead><tr><th></th><th scope=col>col1</th><th scope=col>col2</th><th scope=col>col3</th><th scope=col>col4</th><th scope=col>col5</th></tr></thead>\n",
       "<tbody>\n",
       "\t<tr><th scope=row>row1</th><td> 1</td><td> 2</td><td> 3</td><td> 4</td><td> 5</td></tr>\n",
       "\t<tr><th scope=row>row2</th><td> 6</td><td> 7</td><td> 8</td><td> 9</td><td>10</td></tr>\n",
       "\t<tr><th scope=row>row3</th><td>11</td><td>12</td><td>13</td><td>14</td><td>15</td></tr>\n",
       "\t<tr><th scope=row>row4</th><td>16</td><td>17</td><td>18</td><td>19</td><td>20</td></tr>\n",
       "</tbody>\n",
       "</table>\n"
      ],
      "text/latex": [
       "\\begin{tabular}{r|lllll}\n",
       "  & col1 & col2 & col3 & col4 & col5\\\\\n",
       "\\hline\n",
       "\trow1 &  1 &  2 &  3 &  4 &  5\\\\\n",
       "\trow2 &  6 &  7 &  8 &  9 & 10\\\\\n",
       "\trow3 & 11 & 12 & 13 & 14 & 15\\\\\n",
       "\trow4 & 16 & 17 & 18 & 19 & 20\\\\\n",
       "\\end{tabular}\n"
      ],
      "text/markdown": [
       "\n",
       "| <!--/--> | col1 | col2 | col3 | col4 | col5 | \n",
       "|---|---|---|---|\n",
       "| row1 |  1 |  2 |  3 |  4 |  5 | \n",
       "| row2 |  6 |  7 |  8 |  9 | 10 | \n",
       "| row3 | 11 | 12 | 13 | 14 | 15 | \n",
       "| row4 | 16 | 17 | 18 | 19 | 20 | \n",
       "\n",
       "\n"
      ],
      "text/plain": [
       "     col1 col2 col3 col4 col5\n",
       "row1  1    2    3    4    5  \n",
       "row2  6    7    8    9   10  \n",
       "row3 11   12   13   14   15  \n",
       "row4 16   17   18   19   20  "
      ]
     },
     "metadata": {},
     "output_type": "display_data"
    }
   ],
   "source": [
    "mat_A"
   ]
  },
  {
   "cell_type": "code",
   "execution_count": 15,
   "metadata": {},
   "outputs": [
    {
     "data": {
      "text/html": [
       "<table>\n",
       "<thead><tr><th></th><th scope=col>col1</th><th scope=col>col2</th><th scope=col>col3</th><th scope=col>col4</th><th scope=col>col5</th></tr></thead>\n",
       "<tbody>\n",
       "\t<tr><th scope=row>row1</th><td>1 </td><td>5 </td><td> 9</td><td>13</td><td>17</td></tr>\n",
       "\t<tr><th scope=row>row2</th><td>2 </td><td>6 </td><td>10</td><td>14</td><td>18</td></tr>\n",
       "\t<tr><th scope=row>row3</th><td>3 </td><td>7 </td><td>11</td><td>15</td><td>19</td></tr>\n",
       "\t<tr><th scope=row>row4</th><td>4 </td><td>8 </td><td>12</td><td>16</td><td>20</td></tr>\n",
       "</tbody>\n",
       "</table>\n"
      ],
      "text/latex": [
       "\\begin{tabular}{r|lllll}\n",
       "  & col1 & col2 & col3 & col4 & col5\\\\\n",
       "\\hline\n",
       "\trow1 & 1  & 5  &  9 & 13 & 17\\\\\n",
       "\trow2 & 2  & 6  & 10 & 14 & 18\\\\\n",
       "\trow3 & 3  & 7  & 11 & 15 & 19\\\\\n",
       "\trow4 & 4  & 8  & 12 & 16 & 20\\\\\n",
       "\\end{tabular}\n"
      ],
      "text/markdown": [
       "\n",
       "| <!--/--> | col1 | col2 | col3 | col4 | col5 | \n",
       "|---|---|---|---|\n",
       "| row1 | 1  | 5  |  9 | 13 | 17 | \n",
       "| row2 | 2  | 6  | 10 | 14 | 18 | \n",
       "| row3 | 3  | 7  | 11 | 15 | 19 | \n",
       "| row4 | 4  | 8  | 12 | 16 | 20 | \n",
       "\n",
       "\n"
      ],
      "text/plain": [
       "     col1 col2 col3 col4 col5\n",
       "row1 1    5     9   13   17  \n",
       "row2 2    6    10   14   18  \n",
       "row3 3    7    11   15   19  \n",
       "row4 4    8    12   16   20  "
      ]
     },
     "metadata": {},
     "output_type": "display_data"
    }
   ],
   "source": [
    "mat_A <- matrix(seq(1:20),nrow=4,ncol=5,dimnames=list(c(\"row1\",\"row2\",\"row3\",\"row4\"),c(\"col1\",\"col2\",\"col3\",\"col4\",\n",
    "\"col5\")))\n",
    "mat_A       \n",
    "# so by default it's column wise"
   ]
  },
  {
   "cell_type": "code",
   "execution_count": 18,
   "metadata": {},
   "outputs": [
    {
     "data": {
      "text/html": [
       "<dl class=dl-horizontal>\n",
       "\t<dt>row1</dt>\n",
       "\t\t<dd>13</dd>\n",
       "\t<dt>row2</dt>\n",
       "\t\t<dd>14</dd>\n",
       "\t<dt>row3</dt>\n",
       "\t\t<dd>15</dd>\n",
       "\t<dt>row4</dt>\n",
       "\t\t<dd>16</dd>\n",
       "</dl>\n"
      ],
      "text/latex": [
       "\\begin{description*}\n",
       "\\item[row1] 13\n",
       "\\item[row2] 14\n",
       "\\item[row3] 15\n",
       "\\item[row4] 16\n",
       "\\end{description*}\n"
      ],
      "text/markdown": [
       "row1\n",
       ":   13row2\n",
       ":   14row3\n",
       ":   15row4\n",
       ":   16\n",
       "\n"
      ],
      "text/plain": [
       "row1 row2 row3 row4 \n",
       "  13   14   15   16 "
      ]
     },
     "metadata": {},
     "output_type": "display_data"
    },
    {
     "data": {
      "text/html": [
       "<table>\n",
       "<thead><tr><th></th><th scope=col>col3</th><th scope=col>col4</th></tr></thead>\n",
       "<tbody>\n",
       "\t<tr><th scope=row>row1</th><td> 9</td><td>13</td></tr>\n",
       "\t<tr><th scope=row>row2</th><td>10</td><td>14</td></tr>\n",
       "</tbody>\n",
       "</table>\n"
      ],
      "text/latex": [
       "\\begin{tabular}{r|ll}\n",
       "  & col3 & col4\\\\\n",
       "\\hline\n",
       "\trow1 &  9 & 13\\\\\n",
       "\trow2 & 10 & 14\\\\\n",
       "\\end{tabular}\n"
      ],
      "text/markdown": [
       "\n",
       "| <!--/--> | col3 | col4 | \n",
       "|---|---|\n",
       "| row1 |  9 | 13 | \n",
       "| row2 | 10 | 14 | \n",
       "\n",
       "\n"
      ],
      "text/plain": [
       "     col3 col4\n",
       "row1  9   13  \n",
       "row2 10   14  "
      ]
     },
     "metadata": {},
     "output_type": "display_data"
    }
   ],
   "source": [
    "mat_A[,4]; mat_A[1:2,3:4]"
   ]
  },
  {
   "cell_type": "code",
   "execution_count": 19,
   "metadata": {},
   "outputs": [
    {
     "data": {
      "text/html": [
       "<table>\n",
       "<thead><tr><th></th><th scope=col>col1</th><th scope=col>col2</th><th scope=col>col3</th><th scope=col>col4</th><th scope=col>col5</th></tr></thead>\n",
       "<tbody>\n",
       "\t<tr><th scope=row>row1</th><td>1 </td><td>5 </td><td> 9</td><td>13</td><td>17</td></tr>\n",
       "\t<tr><th scope=row>row2</th><td>2 </td><td>6 </td><td>10</td><td>14</td><td>18</td></tr>\n",
       "\t<tr><th scope=row>row3</th><td>3 </td><td>7 </td><td>11</td><td>15</td><td>19</td></tr>\n",
       "</tbody>\n",
       "</table>\n"
      ],
      "text/latex": [
       "\\begin{tabular}{r|lllll}\n",
       "  & col1 & col2 & col3 & col4 & col5\\\\\n",
       "\\hline\n",
       "\trow1 & 1  & 5  &  9 & 13 & 17\\\\\n",
       "\trow2 & 2  & 6  & 10 & 14 & 18\\\\\n",
       "\trow3 & 3  & 7  & 11 & 15 & 19\\\\\n",
       "\\end{tabular}\n"
      ],
      "text/markdown": [
       "\n",
       "| <!--/--> | col1 | col2 | col3 | col4 | col5 | \n",
       "|---|---|---|\n",
       "| row1 | 1  | 5  |  9 | 13 | 17 | \n",
       "| row2 | 2  | 6  | 10 | 14 | 18 | \n",
       "| row3 | 3  | 7  | 11 | 15 | 19 | \n",
       "\n",
       "\n"
      ],
      "text/plain": [
       "     col1 col2 col3 col4 col5\n",
       "row1 1    5     9   13   17  \n",
       "row2 2    6    10   14   18  \n",
       "row3 3    7    11   15   19  "
      ]
     },
     "metadata": {},
     "output_type": "display_data"
    }
   ],
   "source": [
    "mat_A[1:3,]"
   ]
  },
  {
   "cell_type": "code",
   "execution_count": 21,
   "metadata": {},
   "outputs": [
    {
     "data": {
      "text/html": [
       "<ol class=list-inline>\n",
       "\t<li>1</li>\n",
       "\t<li>2</li>\n",
       "\t<li>3</li>\n",
       "\t<li>4</li>\n",
       "\t<li>5</li>\n",
       "\t<li>6</li>\n",
       "\t<li>7</li>\n",
       "\t<li>8</li>\n",
       "\t<li>9</li>\n",
       "\t<li>10</li>\n",
       "\t<li>11</li>\n",
       "\t<li>12</li>\n",
       "\t<li>13</li>\n",
       "\t<li>14</li>\n",
       "\t<li>15</li>\n",
       "\t<li>16</li>\n",
       "\t<li>17</li>\n",
       "\t<li>18</li>\n",
       "\t<li>19</li>\n",
       "\t<li>20</li>\n",
       "\t<li>1</li>\n",
       "\t<li>2</li>\n",
       "\t<li>3</li>\n",
       "\t<li>4</li>\n",
       "\t<li>5</li>\n",
       "\t<li>6</li>\n",
       "\t<li>7</li>\n",
       "\t<li>8</li>\n",
       "\t<li>9</li>\n",
       "\t<li>10</li>\n",
       "\t<li>11</li>\n",
       "\t<li>12</li>\n",
       "\t<li>13</li>\n",
       "\t<li>14</li>\n",
       "\t<li>15</li>\n",
       "\t<li>16</li>\n",
       "\t<li>17</li>\n",
       "\t<li>18</li>\n",
       "\t<li>19</li>\n",
       "\t<li>20</li>\n",
       "\t<li>1</li>\n",
       "\t<li>2</li>\n",
       "\t<li>3</li>\n",
       "\t<li>4</li>\n",
       "\t<li>5</li>\n",
       "\t<li>6</li>\n",
       "\t<li>7</li>\n",
       "\t<li>8</li>\n",
       "\t<li>9</li>\n",
       "\t<li>10</li>\n",
       "\t<li>11</li>\n",
       "\t<li>12</li>\n",
       "\t<li>13</li>\n",
       "\t<li>14</li>\n",
       "\t<li>15</li>\n",
       "\t<li>16</li>\n",
       "\t<li>17</li>\n",
       "\t<li>18</li>\n",
       "\t<li>19</li>\n",
       "\t<li>20</li>\n",
       "</ol>\n"
      ],
      "text/latex": [
       "\\begin{enumerate*}\n",
       "\\item 1\n",
       "\\item 2\n",
       "\\item 3\n",
       "\\item 4\n",
       "\\item 5\n",
       "\\item 6\n",
       "\\item 7\n",
       "\\item 8\n",
       "\\item 9\n",
       "\\item 10\n",
       "\\item 11\n",
       "\\item 12\n",
       "\\item 13\n",
       "\\item 14\n",
       "\\item 15\n",
       "\\item 16\n",
       "\\item 17\n",
       "\\item 18\n",
       "\\item 19\n",
       "\\item 20\n",
       "\\item 1\n",
       "\\item 2\n",
       "\\item 3\n",
       "\\item 4\n",
       "\\item 5\n",
       "\\item 6\n",
       "\\item 7\n",
       "\\item 8\n",
       "\\item 9\n",
       "\\item 10\n",
       "\\item 11\n",
       "\\item 12\n",
       "\\item 13\n",
       "\\item 14\n",
       "\\item 15\n",
       "\\item 16\n",
       "\\item 17\n",
       "\\item 18\n",
       "\\item 19\n",
       "\\item 20\n",
       "\\item 1\n",
       "\\item 2\n",
       "\\item 3\n",
       "\\item 4\n",
       "\\item 5\n",
       "\\item 6\n",
       "\\item 7\n",
       "\\item 8\n",
       "\\item 9\n",
       "\\item 10\n",
       "\\item 11\n",
       "\\item 12\n",
       "\\item 13\n",
       "\\item 14\n",
       "\\item 15\n",
       "\\item 16\n",
       "\\item 17\n",
       "\\item 18\n",
       "\\item 19\n",
       "\\item 20\n",
       "\\end{enumerate*}\n"
      ],
      "text/markdown": [
       "1. 1\n",
       "2. 2\n",
       "3. 3\n",
       "4. 4\n",
       "5. 5\n",
       "6. 6\n",
       "7. 7\n",
       "8. 8\n",
       "9. 9\n",
       "10. 10\n",
       "11. 11\n",
       "12. 12\n",
       "13. 13\n",
       "14. 14\n",
       "15. 15\n",
       "16. 16\n",
       "17. 17\n",
       "18. 18\n",
       "19. 19\n",
       "20. 20\n",
       "21. 1\n",
       "22. 2\n",
       "23. 3\n",
       "24. 4\n",
       "25. 5\n",
       "26. 6\n",
       "27. 7\n",
       "28. 8\n",
       "29. 9\n",
       "30. 10\n",
       "31. 11\n",
       "32. 12\n",
       "33. 13\n",
       "34. 14\n",
       "35. 15\n",
       "36. 16\n",
       "37. 17\n",
       "38. 18\n",
       "39. 19\n",
       "40. 20\n",
       "41. 1\n",
       "42. 2\n",
       "43. 3\n",
       "44. 4\n",
       "45. 5\n",
       "46. 6\n",
       "47. 7\n",
       "48. 8\n",
       "49. 9\n",
       "50. 10\n",
       "51. 11\n",
       "52. 12\n",
       "53. 13\n",
       "54. 14\n",
       "55. 15\n",
       "56. 16\n",
       "57. 17\n",
       "58. 18\n",
       "59. 19\n",
       "60. 20\n",
       "\n",
       "\n"
      ],
      "text/plain": [
       " [1]  1  2  3  4  5  6  7  8  9 10 11 12 13 14 15 16 17 18 19 20  1  2  3  4  5\n",
       "[26]  6  7  8  9 10 11 12 13 14 15 16 17 18 19 20  1  2  3  4  5  6  7  8  9 10\n",
       "[51] 11 12 13 14 15 16 17 18 19 20"
      ]
     },
     "metadata": {},
     "output_type": "display_data"
    }
   ],
   "source": [
    "# Now see what happens using 'rep'\n",
    "rep(mat_A,3)"
   ]
  },
  {
   "cell_type": "code",
   "execution_count": 23,
   "metadata": {},
   "outputs": [
    {
     "data": {
      "text/html": [
       "<table>\n",
       "<thead><tr><th scope=col>ID</th><th scope=col>Color</th><th scope=col>Passed</th></tr></thead>\n",
       "<tbody>\n",
       "\t<tr><td>1    </td><td>red  </td><td> TRUE</td></tr>\n",
       "\t<tr><td>2    </td><td>white</td><td> TRUE</td></tr>\n",
       "\t<tr><td>3    </td><td>red  </td><td> TRUE</td></tr>\n",
       "\t<tr><td>4    </td><td>NA   </td><td>FALSE</td></tr>\n",
       "</tbody>\n",
       "</table>\n"
      ],
      "text/latex": [
       "\\begin{tabular}{r|lll}\n",
       " ID & Color & Passed\\\\\n",
       "\\hline\n",
       "\t 1     & red   &  TRUE\\\\\n",
       "\t 2     & white &  TRUE\\\\\n",
       "\t 3     & red   &  TRUE\\\\\n",
       "\t 4     & NA    & FALSE\\\\\n",
       "\\end{tabular}\n"
      ],
      "text/markdown": [
       "\n",
       "ID | Color | Passed | \n",
       "|---|---|---|---|\n",
       "| 1     | red   |  TRUE | \n",
       "| 2     | white |  TRUE | \n",
       "| 3     | red   |  TRUE | \n",
       "| 4     | NA    | FALSE | \n",
       "\n",
       "\n"
      ],
      "text/plain": [
       "  ID Color Passed\n",
       "1 1  red    TRUE \n",
       "2 2  white  TRUE \n",
       "3 3  red    TRUE \n",
       "4 4  NA    FALSE "
      ]
     },
     "metadata": {},
     "output_type": "display_data"
    }
   ],
   "source": [
    "d <- c(1,2,3,4)\n",
    "e <- c(\"red\", \"white\", \"red\", NA)\n",
    "f <- c(TRUE,TRUE,TRUE,FALSE)\n",
    "mydata <- data.frame(d,e,f)\n",
    "names(mydata) <- c(\"ID\",\"Color\",\"Passed\") # variable names\n",
    "mydata"
   ]
  },
  {
   "cell_type": "code",
   "execution_count": 25,
   "metadata": {
    "collapsed": true
   },
   "outputs": [],
   "source": [
    "data()    # opens document of data sets"
   ]
  },
  {
   "cell_type": "code",
   "execution_count": 28,
   "metadata": {},
   "outputs": [
    {
     "data": {
      "text/html": [
       "'matrix'"
      ],
      "text/latex": [
       "'matrix'"
      ],
      "text/markdown": [
       "'matrix'"
      ],
      "text/plain": [
       "[1] \"matrix\""
      ]
     },
     "metadata": {},
     "output_type": "display_data"
    },
    {
     "data": {
      "text/html": [
       "'list'"
      ],
      "text/latex": [
       "'list'"
      ],
      "text/markdown": [
       "'list'"
      ],
      "text/plain": [
       "[1] \"list\""
      ]
     },
     "metadata": {},
     "output_type": "display_data"
    }
   ],
   "source": [
    "# Creating data frame \n",
    "dd <- data.frame(mat_A)\n",
    "class(mat_A)\n",
    "typeof(dd)"
   ]
  },
  {
   "cell_type": "code",
   "execution_count": 29,
   "metadata": {},
   "outputs": [
    {
     "name": "stdout",
     "output_type": "stream",
     "text": [
      "'data.frame':\t153 obs. of  6 variables:\n",
      " $ Ozone  : int  41 36 12 18 NA 28 23 19 8 NA ...\n",
      " $ Solar.R: int  190 118 149 313 NA NA 299 99 19 194 ...\n",
      " $ Wind   : num  7.4 8 12.6 11.5 14.3 14.9 8.6 13.8 20.1 8.6 ...\n",
      " $ Temp   : int  67 72 74 62 56 66 65 59 61 69 ...\n",
      " $ Month  : int  5 5 5 5 5 5 5 5 5 5 ...\n",
      " $ Day    : int  1 2 3 4 5 6 7 8 9 10 ...\n"
     ]
    }
   ],
   "source": [
    "data <- airquality\n",
    "str(data)"
   ]
  },
  {
   "cell_type": "code",
   "execution_count": 30,
   "metadata": {
    "collapsed": true
   },
   "outputs": [],
   "source": [
    "d.frame1 <- data.frame(CustomerId = c(1:6), Product = c(rep(\"TV\", 3),\n",
    "rep(\"Radio\", 3)))\n",
    "d.frame2 <- data.frame(CustomerId = c(2, 4, 6), State = c(rep(\"Goa\", 2),\n",
    "rep(\"Delhi\", 1)))"
   ]
  },
  {
   "cell_type": "code",
   "execution_count": 31,
   "metadata": {},
   "outputs": [
    {
     "data": {
      "text/html": [
       "<table>\n",
       "<thead><tr><th scope=col>CustomerId</th><th scope=col>Product</th><th scope=col>State</th></tr></thead>\n",
       "<tbody>\n",
       "\t<tr><td>2    </td><td>TV   </td><td>Goa  </td></tr>\n",
       "\t<tr><td>4    </td><td>Radio</td><td>Goa  </td></tr>\n",
       "\t<tr><td>6    </td><td>Radio</td><td>Delhi</td></tr>\n",
       "</tbody>\n",
       "</table>\n"
      ],
      "text/latex": [
       "\\begin{tabular}{r|lll}\n",
       " CustomerId & Product & State\\\\\n",
       "\\hline\n",
       "\t 2     & TV    & Goa  \\\\\n",
       "\t 4     & Radio & Goa  \\\\\n",
       "\t 6     & Radio & Delhi\\\\\n",
       "\\end{tabular}\n"
      ],
      "text/markdown": [
       "\n",
       "CustomerId | Product | State | \n",
       "|---|---|---|\n",
       "| 2     | TV    | Goa   | \n",
       "| 4     | Radio | Goa   | \n",
       "| 6     | Radio | Delhi | \n",
       "\n",
       "\n"
      ],
      "text/plain": [
       "  CustomerId Product State\n",
       "1 2          TV      Goa  \n",
       "2 4          Radio   Goa  \n",
       "3 6          Radio   Delhi"
      ]
     },
     "metadata": {},
     "output_type": "display_data"
    }
   ],
   "source": [
    "# Inner join\n",
    "merge(d.frame1,d.frame2)"
   ]
  },
  {
   "cell_type": "code",
   "execution_count": 32,
   "metadata": {},
   "outputs": [
    {
     "data": {
      "text/html": [
       "<table>\n",
       "<thead><tr><th scope=col>CustomerId</th><th scope=col>Product</th><th scope=col>State</th></tr></thead>\n",
       "<tbody>\n",
       "\t<tr><td>1    </td><td>TV   </td><td>NA   </td></tr>\n",
       "\t<tr><td>2    </td><td>TV   </td><td>Goa  </td></tr>\n",
       "\t<tr><td>3    </td><td>TV   </td><td>NA   </td></tr>\n",
       "\t<tr><td>4    </td><td>Radio</td><td>Goa  </td></tr>\n",
       "\t<tr><td>5    </td><td>Radio</td><td>NA   </td></tr>\n",
       "\t<tr><td>6    </td><td>Radio</td><td>Delhi</td></tr>\n",
       "</tbody>\n",
       "</table>\n"
      ],
      "text/latex": [
       "\\begin{tabular}{r|lll}\n",
       " CustomerId & Product & State\\\\\n",
       "\\hline\n",
       "\t 1     & TV    & NA   \\\\\n",
       "\t 2     & TV    & Goa  \\\\\n",
       "\t 3     & TV    & NA   \\\\\n",
       "\t 4     & Radio & Goa  \\\\\n",
       "\t 5     & Radio & NA   \\\\\n",
       "\t 6     & Radio & Delhi\\\\\n",
       "\\end{tabular}\n"
      ],
      "text/markdown": [
       "\n",
       "CustomerId | Product | State | \n",
       "|---|---|---|---|---|---|\n",
       "| 1     | TV    | NA    | \n",
       "| 2     | TV    | Goa   | \n",
       "| 3     | TV    | NA    | \n",
       "| 4     | Radio | Goa   | \n",
       "| 5     | Radio | NA    | \n",
       "| 6     | Radio | Delhi | \n",
       "\n",
       "\n"
      ],
      "text/plain": [
       "  CustomerId Product State\n",
       "1 1          TV      NA   \n",
       "2 2          TV      Goa  \n",
       "3 3          TV      NA   \n",
       "4 4          Radio   Goa  \n",
       "5 5          Radio   NA   \n",
       "6 6          Radio   Delhi"
      ]
     },
     "metadata": {},
     "output_type": "display_data"
    }
   ],
   "source": [
    "#Outer join\n",
    "merge(x = d.frame1, y = d.frame2, by = \"CustomerId\", all = TRUE)\n"
   ]
  },
  {
   "cell_type": "code",
   "execution_count": 33,
   "metadata": {},
   "outputs": [
    {
     "data": {
      "text/html": [
       "<table>\n",
       "<thead><tr><th scope=col>CustomerId</th><th scope=col>Product</th><th scope=col>State</th></tr></thead>\n",
       "<tbody>\n",
       "\t<tr><td>1    </td><td>TV   </td><td>NA   </td></tr>\n",
       "\t<tr><td>2    </td><td>TV   </td><td>Goa  </td></tr>\n",
       "\t<tr><td>3    </td><td>TV   </td><td>NA   </td></tr>\n",
       "\t<tr><td>4    </td><td>Radio</td><td>Goa  </td></tr>\n",
       "\t<tr><td>5    </td><td>Radio</td><td>NA   </td></tr>\n",
       "\t<tr><td>6    </td><td>Radio</td><td>Delhi</td></tr>\n",
       "</tbody>\n",
       "</table>\n"
      ],
      "text/latex": [
       "\\begin{tabular}{r|lll}\n",
       " CustomerId & Product & State\\\\\n",
       "\\hline\n",
       "\t 1     & TV    & NA   \\\\\n",
       "\t 2     & TV    & Goa  \\\\\n",
       "\t 3     & TV    & NA   \\\\\n",
       "\t 4     & Radio & Goa  \\\\\n",
       "\t 5     & Radio & NA   \\\\\n",
       "\t 6     & Radio & Delhi\\\\\n",
       "\\end{tabular}\n"
      ],
      "text/markdown": [
       "\n",
       "CustomerId | Product | State | \n",
       "|---|---|---|---|---|---|\n",
       "| 1     | TV    | NA    | \n",
       "| 2     | TV    | Goa   | \n",
       "| 3     | TV    | NA    | \n",
       "| 4     | Radio | Goa   | \n",
       "| 5     | Radio | NA    | \n",
       "| 6     | Radio | Delhi | \n",
       "\n",
       "\n"
      ],
      "text/plain": [
       "  CustomerId Product State\n",
       "1 1          TV      NA   \n",
       "2 2          TV      Goa  \n",
       "3 3          TV      NA   \n",
       "4 4          Radio   Goa  \n",
       "5 5          Radio   NA   \n",
       "6 6          Radio   Delhi"
      ]
     },
     "metadata": {},
     "output_type": "display_data"
    }
   ],
   "source": [
    "# Left outer\n",
    "merge(x = d.frame1, y = d.frame2, by = \"CustomerId\", all.x = TRUE)"
   ]
  },
  {
   "cell_type": "code",
   "execution_count": 34,
   "metadata": {},
   "outputs": [
    {
     "data": {
      "text/html": [
       "<table>\n",
       "<thead><tr><th scope=col>CustomerId</th><th scope=col>Product</th><th scope=col>State</th></tr></thead>\n",
       "<tbody>\n",
       "\t<tr><td>2    </td><td>TV   </td><td>Goa  </td></tr>\n",
       "\t<tr><td>4    </td><td>Radio</td><td>Goa  </td></tr>\n",
       "\t<tr><td>6    </td><td>Radio</td><td>Delhi</td></tr>\n",
       "</tbody>\n",
       "</table>\n"
      ],
      "text/latex": [
       "\\begin{tabular}{r|lll}\n",
       " CustomerId & Product & State\\\\\n",
       "\\hline\n",
       "\t 2     & TV    & Goa  \\\\\n",
       "\t 4     & Radio & Goa  \\\\\n",
       "\t 6     & Radio & Delhi\\\\\n",
       "\\end{tabular}\n"
      ],
      "text/markdown": [
       "\n",
       "CustomerId | Product | State | \n",
       "|---|---|---|\n",
       "| 2     | TV    | Goa   | \n",
       "| 4     | Radio | Goa   | \n",
       "| 6     | Radio | Delhi | \n",
       "\n",
       "\n"
      ],
      "text/plain": [
       "  CustomerId Product State\n",
       "1 2          TV      Goa  \n",
       "2 4          Radio   Goa  \n",
       "3 6          Radio   Delhi"
      ]
     },
     "metadata": {},
     "output_type": "display_data"
    }
   ],
   "source": [
    "# Right outer\n",
    "merge(x = d.frame1, y = d.frame2, by = \"CustomerId\", all.y =TRUE)"
   ]
  },
  {
   "cell_type": "code",
   "execution_count": 35,
   "metadata": {},
   "outputs": [
    {
     "data": {
      "text/html": [
       "<table>\n",
       "<thead><tr><th scope=col>CustomerId.x</th><th scope=col>Product</th><th scope=col>CustomerId.y</th><th scope=col>State</th></tr></thead>\n",
       "<tbody>\n",
       "\t<tr><td>1    </td><td>TV   </td><td>2    </td><td>Goa  </td></tr>\n",
       "\t<tr><td>2    </td><td>TV   </td><td>2    </td><td>Goa  </td></tr>\n",
       "\t<tr><td>3    </td><td>TV   </td><td>2    </td><td>Goa  </td></tr>\n",
       "\t<tr><td>4    </td><td>Radio</td><td>2    </td><td>Goa  </td></tr>\n",
       "\t<tr><td>5    </td><td>Radio</td><td>2    </td><td>Goa  </td></tr>\n",
       "\t<tr><td>6    </td><td>Radio</td><td>2    </td><td>Goa  </td></tr>\n",
       "\t<tr><td>1    </td><td>TV   </td><td>4    </td><td>Goa  </td></tr>\n",
       "\t<tr><td>2    </td><td>TV   </td><td>4    </td><td>Goa  </td></tr>\n",
       "\t<tr><td>3    </td><td>TV   </td><td>4    </td><td>Goa  </td></tr>\n",
       "\t<tr><td>4    </td><td>Radio</td><td>4    </td><td>Goa  </td></tr>\n",
       "\t<tr><td>5    </td><td>Radio</td><td>4    </td><td>Goa  </td></tr>\n",
       "\t<tr><td>6    </td><td>Radio</td><td>4    </td><td>Goa  </td></tr>\n",
       "\t<tr><td>1    </td><td>TV   </td><td>6    </td><td>Delhi</td></tr>\n",
       "\t<tr><td>2    </td><td>TV   </td><td>6    </td><td>Delhi</td></tr>\n",
       "\t<tr><td>3    </td><td>TV   </td><td>6    </td><td>Delhi</td></tr>\n",
       "\t<tr><td>4    </td><td>Radio</td><td>6    </td><td>Delhi</td></tr>\n",
       "\t<tr><td>5    </td><td>Radio</td><td>6    </td><td>Delhi</td></tr>\n",
       "\t<tr><td>6    </td><td>Radio</td><td>6    </td><td>Delhi</td></tr>\n",
       "</tbody>\n",
       "</table>\n"
      ],
      "text/latex": [
       "\\begin{tabular}{r|llll}\n",
       " CustomerId.x & Product & CustomerId.y & State\\\\\n",
       "\\hline\n",
       "\t 1     & TV    & 2     & Goa  \\\\\n",
       "\t 2     & TV    & 2     & Goa  \\\\\n",
       "\t 3     & TV    & 2     & Goa  \\\\\n",
       "\t 4     & Radio & 2     & Goa  \\\\\n",
       "\t 5     & Radio & 2     & Goa  \\\\\n",
       "\t 6     & Radio & 2     & Goa  \\\\\n",
       "\t 1     & TV    & 4     & Goa  \\\\\n",
       "\t 2     & TV    & 4     & Goa  \\\\\n",
       "\t 3     & TV    & 4     & Goa  \\\\\n",
       "\t 4     & Radio & 4     & Goa  \\\\\n",
       "\t 5     & Radio & 4     & Goa  \\\\\n",
       "\t 6     & Radio & 4     & Goa  \\\\\n",
       "\t 1     & TV    & 6     & Delhi\\\\\n",
       "\t 2     & TV    & 6     & Delhi\\\\\n",
       "\t 3     & TV    & 6     & Delhi\\\\\n",
       "\t 4     & Radio & 6     & Delhi\\\\\n",
       "\t 5     & Radio & 6     & Delhi\\\\\n",
       "\t 6     & Radio & 6     & Delhi\\\\\n",
       "\\end{tabular}\n"
      ],
      "text/markdown": [
       "\n",
       "CustomerId.x | Product | CustomerId.y | State | \n",
       "|---|---|---|---|---|---|---|---|---|---|---|---|---|---|---|---|---|---|\n",
       "| 1     | TV    | 2     | Goa   | \n",
       "| 2     | TV    | 2     | Goa   | \n",
       "| 3     | TV    | 2     | Goa   | \n",
       "| 4     | Radio | 2     | Goa   | \n",
       "| 5     | Radio | 2     | Goa   | \n",
       "| 6     | Radio | 2     | Goa   | \n",
       "| 1     | TV    | 4     | Goa   | \n",
       "| 2     | TV    | 4     | Goa   | \n",
       "| 3     | TV    | 4     | Goa   | \n",
       "| 4     | Radio | 4     | Goa   | \n",
       "| 5     | Radio | 4     | Goa   | \n",
       "| 6     | Radio | 4     | Goa   | \n",
       "| 1     | TV    | 6     | Delhi | \n",
       "| 2     | TV    | 6     | Delhi | \n",
       "| 3     | TV    | 6     | Delhi | \n",
       "| 4     | Radio | 6     | Delhi | \n",
       "| 5     | Radio | 6     | Delhi | \n",
       "| 6     | Radio | 6     | Delhi | \n",
       "\n",
       "\n"
      ],
      "text/plain": [
       "   CustomerId.x Product CustomerId.y State\n",
       "1  1            TV      2            Goa  \n",
       "2  2            TV      2            Goa  \n",
       "3  3            TV      2            Goa  \n",
       "4  4            Radio   2            Goa  \n",
       "5  5            Radio   2            Goa  \n",
       "6  6            Radio   2            Goa  \n",
       "7  1            TV      4            Goa  \n",
       "8  2            TV      4            Goa  \n",
       "9  3            TV      4            Goa  \n",
       "10 4            Radio   4            Goa  \n",
       "11 5            Radio   4            Goa  \n",
       "12 6            Radio   4            Goa  \n",
       "13 1            TV      6            Delhi\n",
       "14 2            TV      6            Delhi\n",
       "15 3            TV      6            Delhi\n",
       "16 4            Radio   6            Delhi\n",
       "17 5            Radio   6            Delhi\n",
       "18 6            Radio   6            Delhi"
      ]
     },
     "metadata": {},
     "output_type": "display_data"
    }
   ],
   "source": [
    "# Cross join\n",
    "merge(x = d.frame1, y = d.frame2, by = NULL)"
   ]
  },
  {
   "cell_type": "code",
   "execution_count": 36,
   "metadata": {},
   "outputs": [
    {
     "data": {
      "text/html": [
       "TRUE"
      ],
      "text/latex": [
       "TRUE"
      ],
      "text/markdown": [
       "TRUE"
      ],
      "text/plain": [
       "[1] TRUE"
      ]
     },
     "metadata": {},
     "output_type": "display_data"
    }
   ],
   "source": [
    "# Conditionals:\n",
    "x <- 1\n",
    "y <- 1\n",
    "(x ==1) & (y == 1)"
   ]
  },
  {
   "cell_type": "code",
   "execution_count": 38,
   "metadata": {},
   "outputs": [
    {
     "data": {
      "text/html": [
       "<ol class=list-inline>\n",
       "\t<li>FALSE</li>\n",
       "\t<li>FALSE</li>\n",
       "\t<li>TRUE</li>\n",
       "\t<li>TRUE</li>\n",
       "\t<li>FALSE</li>\n",
       "\t<li>FALSE</li>\n",
       "</ol>\n"
      ],
      "text/latex": [
       "\\begin{enumerate*}\n",
       "\\item FALSE\n",
       "\\item FALSE\n",
       "\\item TRUE\n",
       "\\item TRUE\n",
       "\\item FALSE\n",
       "\\item FALSE\n",
       "\\end{enumerate*}\n"
      ],
      "text/markdown": [
       "1. FALSE\n",
       "2. FALSE\n",
       "3. TRUE\n",
       "4. TRUE\n",
       "5. FALSE\n",
       "6. FALSE\n",
       "\n",
       "\n"
      ],
      "text/plain": [
       "[1] FALSE FALSE  TRUE  TRUE FALSE FALSE"
      ]
     },
     "metadata": {},
     "output_type": "display_data"
    },
    {
     "data": {
      "text/html": [
       "FALSE"
      ],
      "text/latex": [
       "FALSE"
      ],
      "text/markdown": [
       "FALSE"
      ],
      "text/plain": [
       "[1] FALSE"
      ]
     },
     "metadata": {},
     "output_type": "display_data"
    }
   ],
   "source": [
    "s <- 1:6\n",
    "(s > 2 ) & (s < 5)\n",
    "(s > 2) && (s <5)\n",
    "# this is nice...one & vs double &"
   ]
  },
  {
   "cell_type": "code",
   "execution_count": 39,
   "metadata": {},
   "outputs": [
    {
     "data": {
      "text/html": [
       "TRUE"
      ],
      "text/latex": [
       "TRUE"
      ],
      "text/markdown": [
       "TRUE"
      ],
      "text/plain": [
       "[1] TRUE"
      ]
     },
     "metadata": {},
     "output_type": "display_data"
    }
   ],
   "source": [
    "x <- 1\n",
    "y <- 1\n",
    "(x ==1) | (y == 1)"
   ]
  },
  {
   "cell_type": "code",
   "execution_count": 40,
   "metadata": {},
   "outputs": [
    {
     "data": {
      "text/html": [
       "<ol class=list-inline>\n",
       "\t<li>TRUE</li>\n",
       "\t<li>TRUE</li>\n",
       "\t<li>TRUE</li>\n",
       "\t<li>TRUE</li>\n",
       "\t<li>TRUE</li>\n",
       "\t<li>TRUE</li>\n",
       "</ol>\n"
      ],
      "text/latex": [
       "\\begin{enumerate*}\n",
       "\\item TRUE\n",
       "\\item TRUE\n",
       "\\item TRUE\n",
       "\\item TRUE\n",
       "\\item TRUE\n",
       "\\item TRUE\n",
       "\\end{enumerate*}\n"
      ],
      "text/markdown": [
       "1. TRUE\n",
       "2. TRUE\n",
       "3. TRUE\n",
       "4. TRUE\n",
       "5. TRUE\n",
       "6. TRUE\n",
       "\n",
       "\n"
      ],
      "text/plain": [
       "[1] TRUE TRUE TRUE TRUE TRUE TRUE"
      ]
     },
     "metadata": {},
     "output_type": "display_data"
    },
    {
     "data": {
      "text/html": [
       "TRUE"
      ],
      "text/latex": [
       "TRUE"
      ],
      "text/markdown": [
       "TRUE"
      ],
      "text/plain": [
       "[1] TRUE"
      ]
     },
     "metadata": {},
     "output_type": "display_data"
    }
   ],
   "source": [
    "s <- 1:6\n",
    "(s > 2 ) | (s < 5)\n",
    "(s > 2) || (s <5)"
   ]
  },
  {
   "cell_type": "code",
   "execution_count": 42,
   "metadata": {
    "collapsed": true
   },
   "outputs": [],
   "source": [
    "x <- 5"
   ]
  },
  {
   "cell_type": "code",
   "execution_count": 52,
   "metadata": {},
   "outputs": [
    {
     "data": {
      "text/html": [
       "'x is greater or equal to 5'"
      ],
      "text/latex": [
       "'x is greater or equal to 5'"
      ],
      "text/markdown": [
       "'x is greater or equal to 5'"
      ],
      "text/plain": [
       "[1] \"x is greater or equal to 5\""
      ]
     },
     "metadata": {},
     "output_type": "display_data"
    }
   ],
   "source": [
    "# ex.1 of-else\n",
    "if (x < 5) {print(\"x is less than 5\")} else {\"x is greater or equal to 5\"}"
   ]
  },
  {
   "cell_type": "code",
   "execution_count": 53,
   "metadata": {},
   "outputs": [
    {
     "data": {
      "text/html": [
       "<ol class=list-inline>\n",
       "\t<li>'odd'</li>\n",
       "\t<li>'odd'</li>\n",
       "\t<li>'even'</li>\n",
       "\t<li>'odd'</li>\n",
       "</ol>\n"
      ],
      "text/latex": [
       "\\begin{enumerate*}\n",
       "\\item 'odd'\n",
       "\\item 'odd'\n",
       "\\item 'even'\n",
       "\\item 'odd'\n",
       "\\end{enumerate*}\n"
      ],
      "text/markdown": [
       "1. 'odd'\n",
       "2. 'odd'\n",
       "3. 'even'\n",
       "4. 'odd'\n",
       "\n",
       "\n"
      ],
      "text/plain": [
       "[1] \"odd\"  \"odd\"  \"even\" \"odd\" "
      ]
     },
     "metadata": {},
     "output_type": "display_data"
    }
   ],
   "source": [
    "# ex.2 of if-else\n",
    "a = c(5,7,2,9)\n",
    "ifelse(a %% 2 == 0,\"even\",\"odd\")"
   ]
  },
  {
   "cell_type": "code",
   "execution_count": 54,
   "metadata": {},
   "outputs": [
    {
     "data": {
      "text/html": [
       "<table>\n",
       "<thead><tr><th scope=col>a</th><th scope=col>b</th><th scope=col>mulm</th></tr></thead>\n",
       "<tbody>\n",
       "\t<tr><td>0       </td><td>0       </td><td>      NA</td></tr>\n",
       "\t<tr><td>0       </td><td>5       </td><td>      NA</td></tr>\n",
       "\t<tr><td>2       </td><td>0       </td><td>      NA</td></tr>\n",
       "\t<tr><td>3       </td><td>8       </td><td>3.178054</td></tr>\n",
       "</tbody>\n",
       "</table>\n"
      ],
      "text/latex": [
       "\\begin{tabular}{r|lll}\n",
       " a & b & mulm\\\\\n",
       "\\hline\n",
       "\t 0        & 0        &       NA\\\\\n",
       "\t 0        & 5        &       NA\\\\\n",
       "\t 2        & 0        &       NA\\\\\n",
       "\t 3        & 8        & 3.178054\\\\\n",
       "\\end{tabular}\n"
      ],
      "text/markdown": [
       "\n",
       "a | b | mulm | \n",
       "|---|---|---|---|\n",
       "| 0        | 0        |       NA | \n",
       "| 0        | 5        |       NA | \n",
       "| 2        | 0        |       NA | \n",
       "| 3        | 8        | 3.178054 | \n",
       "\n",
       "\n"
      ],
      "text/plain": [
       "  a b mulm    \n",
       "1 0 0       NA\n",
       "2 0 5       NA\n",
       "3 2 0       NA\n",
       "4 3 8 3.178054"
      ]
     },
     "metadata": {},
     "output_type": "display_data"
    }
   ],
   "source": [
    "# ex.3 of if-else\n",
    "data <- data.frame(a=c(0,0,2,3),b=c(0,5,0,8))\n",
    "transform(data,mulm=ifelse(a> 0 & b>0,log(a*b), NA))"
   ]
  },
  {
   "cell_type": "code",
   "execution_count": 55,
   "metadata": {
    "collapsed": true
   },
   "outputs": [],
   "source": [
    "#  apply:Returns a vector or array or list of values obtained by applying a function to margins of an array or matrix.\n",
    "#  Syntax : apply(x,margin,function)\n",
    "    \n",
    "Data <- mtcars\n",
    "Col.mean <- apply(Data,2,mean)\n",
    "Row.mean <- apply(Data,1,mean)"
   ]
  },
  {
   "cell_type": "code",
   "execution_count": 58,
   "metadata": {
    "collapsed": true
   },
   "outputs": [],
   "source": [
    "check_length <- apply(Data, 2, function(x)length(x[x>20]))    # function kya h?? "
   ]
  },
  {
   "cell_type": "code",
   "execution_count": 59,
   "metadata": {},
   "outputs": [
    {
     "data": {
      "text/html": [
       "<dl class=dl-horizontal>\n",
       "\t<dt>mpg</dt>\n",
       "\t\t<dd>14</dd>\n",
       "\t<dt>cyl</dt>\n",
       "\t\t<dd>0</dd>\n",
       "\t<dt>disp</dt>\n",
       "\t\t<dd>32</dd>\n",
       "\t<dt>hp</dt>\n",
       "\t\t<dd>32</dd>\n",
       "\t<dt>drat</dt>\n",
       "\t\t<dd>0</dd>\n",
       "\t<dt>wt</dt>\n",
       "\t\t<dd>0</dd>\n",
       "\t<dt>qsec</dt>\n",
       "\t\t<dd>3</dd>\n",
       "\t<dt>vs</dt>\n",
       "\t\t<dd>0</dd>\n",
       "\t<dt>am</dt>\n",
       "\t\t<dd>0</dd>\n",
       "\t<dt>gear</dt>\n",
       "\t\t<dd>0</dd>\n",
       "\t<dt>carb</dt>\n",
       "\t\t<dd>0</dd>\n",
       "</dl>\n"
      ],
      "text/latex": [
       "\\begin{description*}\n",
       "\\item[mpg] 14\n",
       "\\item[cyl] 0\n",
       "\\item[disp] 32\n",
       "\\item[hp] 32\n",
       "\\item[drat] 0\n",
       "\\item[wt] 0\n",
       "\\item[qsec] 3\n",
       "\\item[vs] 0\n",
       "\\item[am] 0\n",
       "\\item[gear] 0\n",
       "\\item[carb] 0\n",
       "\\end{description*}\n"
      ],
      "text/markdown": [
       "mpg\n",
       ":   14cyl\n",
       ":   0disp\n",
       ":   32hp\n",
       ":   32drat\n",
       ":   0wt\n",
       ":   0qsec\n",
       ":   3vs\n",
       ":   0am\n",
       ":   0gear\n",
       ":   0carb\n",
       ":   0\n",
       "\n"
      ],
      "text/plain": [
       " mpg  cyl disp   hp drat   wt qsec   vs   am gear carb \n",
       "  14    0   32   32    0    0    3    0    0    0    0 "
      ]
     },
     "metadata": {},
     "output_type": "display_data"
    }
   ],
   "source": [
    "check_length"
   ]
  },
  {
   "cell_type": "code",
   "execution_count": 9,
   "metadata": {},
   "outputs": [
    {
     "data": {
      "text/html": [
       "<ol class=list-inline>\n",
       "\t<li>1</li>\n",
       "\t<li>4</li>\n",
       "\t<li>9</li>\n",
       "</ol>\n"
      ],
      "text/latex": [
       "\\begin{enumerate*}\n",
       "\\item 1\n",
       "\\item 4\n",
       "\\item 9\n",
       "\\end{enumerate*}\n"
      ],
      "text/markdown": [
       "1. 1\n",
       "2. 4\n",
       "3. 9\n",
       "\n",
       "\n"
      ],
      "text/plain": [
       "[1] 1 4 9"
      ]
     },
     "metadata": {},
     "output_type": "display_data"
    },
    {
     "data": {
      "text/html": [
       "<dl class=dl-horizontal>\n",
       "\t<dt>mpg</dt>\n",
       "\t\t<dd>20.090625</dd>\n",
       "\t<dt>cyl</dt>\n",
       "\t\t<dd>6.1875</dd>\n",
       "\t<dt>disp</dt>\n",
       "\t\t<dd>230.721875</dd>\n",
       "\t<dt>hp</dt>\n",
       "\t\t<dd>146.6875</dd>\n",
       "\t<dt>drat</dt>\n",
       "\t\t<dd>3.5965625</dd>\n",
       "\t<dt>wt</dt>\n",
       "\t\t<dd>3.21725</dd>\n",
       "\t<dt>qsec</dt>\n",
       "\t\t<dd>17.84875</dd>\n",
       "\t<dt>vs</dt>\n",
       "\t\t<dd>0.4375</dd>\n",
       "\t<dt>am</dt>\n",
       "\t\t<dd>0.40625</dd>\n",
       "\t<dt>gear</dt>\n",
       "\t\t<dd>3.6875</dd>\n",
       "\t<dt>carb</dt>\n",
       "\t\t<dd>2.8125</dd>\n",
       "</dl>\n"
      ],
      "text/latex": [
       "\\begin{description*}\n",
       "\\item[mpg] 20.090625\n",
       "\\item[cyl] 6.1875\n",
       "\\item[disp] 230.721875\n",
       "\\item[hp] 146.6875\n",
       "\\item[drat] 3.5965625\n",
       "\\item[wt] 3.21725\n",
       "\\item[qsec] 17.84875\n",
       "\\item[vs] 0.4375\n",
       "\\item[am] 0.40625\n",
       "\\item[gear] 3.6875\n",
       "\\item[carb] 2.8125\n",
       "\\end{description*}\n"
      ],
      "text/markdown": [
       "mpg\n",
       ":   20.090625cyl\n",
       ":   6.1875disp\n",
       ":   230.721875hp\n",
       ":   146.6875drat\n",
       ":   3.5965625wt\n",
       ":   3.21725qsec\n",
       ":   17.84875vs\n",
       ":   0.4375am\n",
       ":   0.40625gear\n",
       ":   3.6875carb\n",
       ":   2.8125\n",
       "\n"
      ],
      "text/plain": [
       "       mpg        cyl       disp         hp       drat         wt       qsec \n",
       " 20.090625   6.187500 230.721875 146.687500   3.596563   3.217250  17.848750 \n",
       "        vs         am       gear       carb \n",
       "  0.437500   0.406250   3.687500   2.812500 "
      ]
     },
     "metadata": {},
     "output_type": "display_data"
    }
   ],
   "source": [
    "# SAPPLY: For vector and list modification / transformation. It applies function over list and vector and returns vector\n",
    "Data <-mtcars\n",
    "sapply(1:3, function(x) x^2)\n",
    "sapply(Data,mean)"
   ]
  },
  {
   "cell_type": "code",
   "execution_count": 17,
   "metadata": {},
   "outputs": [
    {
     "data": {
      "text/html": [
       "<dl class=dl-horizontal>\n",
       "\t<dt>a1</dt>\n",
       "\t\t<dd>1</dd>\n",
       "\t<dt>a2</dt>\n",
       "\t\t<dd>2</dd>\n",
       "\t<dt>a3</dt>\n",
       "\t\t<dd>3</dd>\n",
       "\t<dt>a4</dt>\n",
       "\t\t<dd>4</dd>\n",
       "\t<dt>a5</dt>\n",
       "\t\t<dd>5</dd>\n",
       "\t<dt>a6</dt>\n",
       "\t\t<dd>6</dd>\n",
       "\t<dt>a7</dt>\n",
       "\t\t<dd>7</dd>\n",
       "\t<dt>a8</dt>\n",
       "\t\t<dd>8</dd>\n",
       "\t<dt>a9</dt>\n",
       "\t\t<dd>9</dd>\n",
       "\t<dt>a10</dt>\n",
       "\t\t<dd>10</dd>\n",
       "\t<dt>b1</dt>\n",
       "\t\t<dd>11</dd>\n",
       "\t<dt>b2</dt>\n",
       "\t\t<dd>12</dd>\n",
       "\t<dt>b3</dt>\n",
       "\t\t<dd>13</dd>\n",
       "\t<dt>b4</dt>\n",
       "\t\t<dd>14</dd>\n",
       "\t<dt>b5</dt>\n",
       "\t\t<dd>15</dd>\n",
       "\t<dt>b6</dt>\n",
       "\t\t<dd>16</dd>\n",
       "\t<dt>b7</dt>\n",
       "\t\t<dd>17</dd>\n",
       "\t<dt>b8</dt>\n",
       "\t\t<dd>18</dd>\n",
       "\t<dt>b9</dt>\n",
       "\t\t<dd>19</dd>\n",
       "\t<dt>b10</dt>\n",
       "\t\t<dd>20</dd>\n",
       "</dl>\n"
      ],
      "text/latex": [
       "\\begin{description*}\n",
       "\\item[a1] 1\n",
       "\\item[a2] 2\n",
       "\\item[a3] 3\n",
       "\\item[a4] 4\n",
       "\\item[a5] 5\n",
       "\\item[a6] 6\n",
       "\\item[a7] 7\n",
       "\\item[a8] 8\n",
       "\\item[a9] 9\n",
       "\\item[a10] 10\n",
       "\\item[b1] 11\n",
       "\\item[b2] 12\n",
       "\\item[b3] 13\n",
       "\\item[b4] 14\n",
       "\\item[b5] 15\n",
       "\\item[b6] 16\n",
       "\\item[b7] 17\n",
       "\\item[b8] 18\n",
       "\\item[b9] 19\n",
       "\\item[b10] 20\n",
       "\\end{description*}\n"
      ],
      "text/markdown": [
       "a1\n",
       ":   1a2\n",
       ":   2a3\n",
       ":   3a4\n",
       ":   4a5\n",
       ":   5a6\n",
       ":   6a7\n",
       ":   7a8\n",
       ":   8a9\n",
       ":   9a10\n",
       ":   10b1\n",
       ":   11b2\n",
       ":   12b3\n",
       ":   13b4\n",
       ":   14b5\n",
       ":   15b6\n",
       ":   16b7\n",
       ":   17b8\n",
       ":   18b9\n",
       ":   19b10\n",
       ":   20\n",
       "\n"
      ],
      "text/plain": [
       " a1  a2  a3  a4  a5  a6  a7  a8  a9 a10  b1  b2  b3  b4  b5  b6  b7  b8  b9 b10 \n",
       "  1   2   3   4   5   6   7   8   9  10  11  12  13  14  15  16  17  18  19  20 "
      ]
     },
     "metadata": {},
     "output_type": "display_data"
    }
   ],
   "source": [
    "l=c(a=1:10,b=11:20) # mean of values using sapply\n",
    "sapply(l,mean)"
   ]
  },
  {
   "cell_type": "code",
   "execution_count": 20,
   "metadata": {},
   "outputs": [
    {
     "data": {
      "text/html": [
       "<dl>\n",
       "\t<dt>$a1</dt>\n",
       "\t\t<dd>1</dd>\n",
       "\t<dt>$a2</dt>\n",
       "\t\t<dd>2</dd>\n",
       "\t<dt>$a3</dt>\n",
       "\t\t<dd>3</dd>\n",
       "\t<dt>$a4</dt>\n",
       "\t\t<dd>4</dd>\n",
       "\t<dt>$a5</dt>\n",
       "\t\t<dd>5</dd>\n",
       "\t<dt>$a6</dt>\n",
       "\t\t<dd>6</dd>\n",
       "\t<dt>$a7</dt>\n",
       "\t\t<dd>7</dd>\n",
       "\t<dt>$a8</dt>\n",
       "\t\t<dd>8</dd>\n",
       "\t<dt>$a9</dt>\n",
       "\t\t<dd>9</dd>\n",
       "\t<dt>$a10</dt>\n",
       "\t\t<dd>10</dd>\n",
       "\t<dt>$b1</dt>\n",
       "\t\t<dd>11</dd>\n",
       "\t<dt>$b2</dt>\n",
       "\t\t<dd>12</dd>\n",
       "\t<dt>$b3</dt>\n",
       "\t\t<dd>13</dd>\n",
       "\t<dt>$b4</dt>\n",
       "\t\t<dd>14</dd>\n",
       "\t<dt>$b5</dt>\n",
       "\t\t<dd>15</dd>\n",
       "\t<dt>$b6</dt>\n",
       "\t\t<dd>16</dd>\n",
       "\t<dt>$b7</dt>\n",
       "\t\t<dd>17</dd>\n",
       "\t<dt>$b8</dt>\n",
       "\t\t<dd>18</dd>\n",
       "\t<dt>$b9</dt>\n",
       "\t\t<dd>19</dd>\n",
       "\t<dt>$b10</dt>\n",
       "\t\t<dd>20</dd>\n",
       "</dl>\n"
      ],
      "text/latex": [
       "\\begin{description}\n",
       "\\item[\\$a1] 1\n",
       "\\item[\\$a2] 2\n",
       "\\item[\\$a3] 3\n",
       "\\item[\\$a4] 4\n",
       "\\item[\\$a5] 5\n",
       "\\item[\\$a6] 6\n",
       "\\item[\\$a7] 7\n",
       "\\item[\\$a8] 8\n",
       "\\item[\\$a9] 9\n",
       "\\item[\\$a10] 10\n",
       "\\item[\\$b1] 11\n",
       "\\item[\\$b2] 12\n",
       "\\item[\\$b3] 13\n",
       "\\item[\\$b4] 14\n",
       "\\item[\\$b5] 15\n",
       "\\item[\\$b6] 16\n",
       "\\item[\\$b7] 17\n",
       "\\item[\\$b8] 18\n",
       "\\item[\\$b9] 19\n",
       "\\item[\\$b10] 20\n",
       "\\end{description}\n"
      ],
      "text/markdown": [
       "$a1\n",
       ":   1\n",
       "$a2\n",
       ":   2\n",
       "$a3\n",
       ":   3\n",
       "$a4\n",
       ":   4\n",
       "$a5\n",
       ":   5\n",
       "$a6\n",
       ":   6\n",
       "$a7\n",
       ":   7\n",
       "$a8\n",
       ":   8\n",
       "$a9\n",
       ":   9\n",
       "$a10\n",
       ":   10\n",
       "$b1\n",
       ":   11\n",
       "$b2\n",
       ":   12\n",
       "$b3\n",
       ":   13\n",
       "$b4\n",
       ":   14\n",
       "$b5\n",
       ":   15\n",
       "$b6\n",
       ":   16\n",
       "$b7\n",
       ":   17\n",
       "$b8\n",
       ":   18\n",
       "$b9\n",
       ":   19\n",
       "$b10\n",
       ":   20\n",
       "\n",
       "\n"
      ],
      "text/plain": [
       "$a1\n",
       "[1] 1\n",
       "\n",
       "$a2\n",
       "[1] 2\n",
       "\n",
       "$a3\n",
       "[1] 3\n",
       "\n",
       "$a4\n",
       "[1] 4\n",
       "\n",
       "$a5\n",
       "[1] 5\n",
       "\n",
       "$a6\n",
       "[1] 6\n",
       "\n",
       "$a7\n",
       "[1] 7\n",
       "\n",
       "$a8\n",
       "[1] 8\n",
       "\n",
       "$a9\n",
       "[1] 9\n",
       "\n",
       "$a10\n",
       "[1] 10\n",
       "\n",
       "$b1\n",
       "[1] 11\n",
       "\n",
       "$b2\n",
       "[1] 12\n",
       "\n",
       "$b3\n",
       "[1] 13\n",
       "\n",
       "$b4\n",
       "[1] 14\n",
       "\n",
       "$b5\n",
       "[1] 15\n",
       "\n",
       "$b6\n",
       "[1] 16\n",
       "\n",
       "$b7\n",
       "[1] 17\n",
       "\n",
       "$b8\n",
       "[1] 18\n",
       "\n",
       "$b9\n",
       "[1] 19\n",
       "\n",
       "$b10\n",
       "[1] 20\n"
      ]
     },
     "metadata": {},
     "output_type": "display_data"
    }
   ],
   "source": [
    "lapply(l,mean)"
   ]
  },
  {
   "cell_type": "code",
   "execution_count": 21,
   "metadata": {},
   "outputs": [
    {
     "ename": "ERROR",
     "evalue": "Error in filter(mydata, cyl > 4 & gear > 4): object 'cyl' not found\n",
     "output_type": "error",
     "traceback": [
      "Error in filter(mydata, cyl > 4 & gear > 4): object 'cyl' not found\nTraceback:\n",
      "1. filter(mydata, cyl > 4 & gear > 4)"
     ]
    }
   ],
   "source": [
    "data(\"mtcars\")\n",
    "mydata <- mtcars\n",
    "filter(mydata, cyl > 4 & gear > 4 )"
   ]
  },
  {
   "cell_type": "code",
   "execution_count": 23,
   "metadata": {},
   "outputs": [
    {
     "data": {
      "image/png": "[encoded data removed]",
      "text/plain": [
       "Plot with title \"Crops production – 2016\""
      ]
     },
     "metadata": {},
     "output_type": "display_data"
    }
   ],
   "source": [
    "#Simple pie chart\n",
    "\n",
    "slices <- c(25, 24, 22, 16,13 )\n",
    "lbls <- c(\"wheat\", \"rice\", \"chickpea\", \"soyabean\", \"pea\")\n",
    "pct <- round(slices/sum(slices)*100)\n",
    "lbls <- paste(lbls, pct) # add percents to labels\n",
    "lbls <- paste(lbls,\"%\",sep=\"\") # ad % to labels\n",
    "pie(slices,labels = lbls, col=rainbow(length(lbls)),main=\"Crops production – 2016\")"
   ]
  },
  {
   "cell_type": "code",
   "execution_count": 24,
   "metadata": {},
   "outputs": [
    {
     "data": {
      "image/png": "[encoded data removed]",
      "text/plain": [
       "Plot with title \"Crop production – 2016\""
      ]
     },
     "metadata": {},
     "output_type": "display_data"
    }
   ],
   "source": [
    "#3D Pie chart\n",
    "\n",
    "library(plotrix)\n",
    "pie3D(slices,labels=lbls,explode=0.1,main=\"Crop production – 2016\")"
   ]
  },
  {
   "cell_type": "code",
   "execution_count": 25,
   "metadata": {},
   "outputs": [
    {
     "data": {
      "image/png": "[encoded data removed]",
      "text/plain": [
       "plot without title"
      ]
     },
     "metadata": {},
     "output_type": "display_data"
    }
   ],
   "source": [
    "#Bar Plots:\n",
    "barplot(table(iris_data$Species))"
   ]
  },
  {
   "cell_type": "code",
   "execution_count": 26,
   "metadata": {},
   "outputs": [
    {
     "data": {
      "image/png": "[encoded data removed]",
      "text/plain": [
       "Plot with title \"Car Distribution by Gears and VS\""
      ]
     },
     "metadata": {},
     "output_type": "display_data"
    }
   ],
   "source": [
    "#Stacked bar plots\n",
    "counts <- table(mtcars$vs, mtcars$gear)\n",
    "barplot(counts, main=\"Car Distribution by Gears and VS\", xlab=\"Number of Gears\",\n",
    "col=c(\"darkblue\",\"red\"), legend = rownames(counts))"
   ]
  },
  {
   "cell_type": "code",
   "execution_count": 27,
   "metadata": {},
   "outputs": [
    {
     "data": {
      "image/png": "[encoded data removed]",
      "text/plain": [
       "Plot with title \"Car Distribution by Gears and VS\""
      ]
     },
     "metadata": {},
     "output_type": "display_data"
    }
   ],
   "source": [
    "#Grouped bar plots\n",
    "counts <- table(mtcars$vs, mtcars$gear)\n",
    "barplot(counts, main=\"Car Distribution by Gears and VS\",\n",
    "xlab=\"Number of Gears\", col=c(\"darkblue\",\"red\"),\n",
    "legend = rownames(counts),beside=T)"
   ]
  },
  {
   "cell_type": "code",
   "execution_count": 34,
   "metadata": {},
   "outputs": [
    {
     "data": {
      "image/png": "[encoded data removed]",
      "text/plain": [
       "Plot with title \"Car Milage Data\""
      ]
     },
     "metadata": {},
     "output_type": "display_data"
    }
   ],
   "source": [
    "#boxplot\n",
    "boxplot(mpg~cyl,data=mtcars, main=\"Car Milage Data\", xlab=\"Number of Cylinders\",ylab=\"Miles Per Gallon\")"
   ]
  },
  {
   "cell_type": "code",
   "execution_count": 38,
   "metadata": {},
   "outputs": [
    {
     "name": "stderr",
     "output_type": "stream",
     "text": [
      "Warning message in bxp(structure(list(stats = structure(c(8.2, 9.7, 12.25, 16.5, :\n",
      "\"some notches went outside hinges ('box'): maybe set notch=FALSE\""
     ]
    },
    {
     "data": {
      "image/png": "[encoded data removed]",
      "text/plain": [
       "Plot with title \"Tooth Growth\""
      ]
     },
     "metadata": {},
     "output_type": "display_data"
    }
   ],
   "source": [
    "#Notched Box plot**\n",
    "boxplot(len~supp*dose, data=ToothGrowth, notch=TRUE, col=(c(\"gold\",\"darkgreen\")),\n",
    "main=\"Tooth Growth\", xlab=\"Suppliment and Dose\")"
   ]
  },
  {
   "cell_type": "code",
   "execution_count": 39,
   "metadata": {},
   "outputs": [
    {
     "data": {
      "image/png": "[encoded data removed]",
      "text/plain": [
       "Plot with title \"Tooth Growth\""
      ]
     },
     "metadata": {},
     "output_type": "display_data"
    }
   ],
   "source": [
    "#Notched Box plot**   <<< notch=FALSE >>>\n",
    "boxplot(len~supp*dose, data=ToothGrowth, notch=FALSE, col=(c(\"gold\",\"darkgreen\")),\n",
    "main=\"Tooth Growth\", xlab=\"Suppliment and Dose\")"
   ]
  },
  {
   "cell_type": "code",
   "execution_count": 40,
   "metadata": {},
   "outputs": [
    {
     "data": {
      "image/png": "[encoded data removed]",
      "text/plain": [
       "plot without title"
      ]
     },
     "metadata": {},
     "output_type": "display_data"
    }
   ],
   "source": [
    "#Outlier Detection\n",
    "outlier_values <- boxplot.stats(mtcars$wt)$out\n",
    "boxplot(mtcars$wt)\n",
    "mtext(paste(\"Outliers: \", paste(outlier_values, collapse=\", \")), cex=0.6)"
   ]
  },
  {
   "cell_type": "code",
   "execution_count": 41,
   "metadata": {},
   "outputs": [
    {
     "data": {
      "text/plain": [
       "Sepal.L\n",
       "4.3 4.4 4.5 4.6 4.7 4.8 4.9   5 5.1 5.2 5.3 5.4 5.5 5.6 5.7 5.8 5.9   6 6.1 6.2 \n",
       "  1   3   1   4   2   5   6  10   9   4   1   6   7   6   8   7   3   6   6   4 \n",
       "6.3 6.4 6.5 6.6 6.7 6.8 6.9   7 7.1 7.2 7.3 7.4 7.6 7.7 7.9 \n",
       "  9   7   5   2   8   3   4   1   1   3   1   1   1   4   1 "
      ]
     },
     "metadata": {},
     "output_type": "display_data"
    },
    {
     "data": {
      "image/png": "[encoded data removed]",
      "text/plain": [
       "Plot with title \"Histogram of Sepal.L\""
      ]
     },
     "metadata": {},
     "output_type": "display_data"
    },
    {
     "data": {
      "image/png": "[encoded data removed]",
      "text/plain": [
       "Plot with title \"Histogram of Sepal.L\""
      ]
     },
     "metadata": {},
     "output_type": "display_data"
    }
   ],
   "source": [
    "# Histogram\n",
    "# Frequency distribution of quantitative variable\n",
    "Sepal.L <- iris$Sepal.Length\n",
    "hist(Sepal.L)\n",
    "table(Sepal.L)\n",
    "hist(Sepal.L,breaks=c(4:8))"
   ]
  },
  {
   "cell_type": "code",
   "execution_count": 42,
   "metadata": {},
   "outputs": [
    {
     "data": {
      "image/png": "[encoded data removed]",
      "text/plain": [
       "Plot with title \"type= h\""
      ]
     },
     "metadata": {},
     "output_type": "display_data"
    }
   ],
   "source": [
    "# Line charts\n",
    "x <- c(1:5)\n",
    "y <- x * 2 # create some data\n",
    "par(pch=23, col=\"green4\") # plotting symbol and color\n",
    "par(mfrow=c(2,4)) # all plots on one page\n",
    "opts = c(\"p\",\"l\",\"o\",\"b\",\"c\",\"s\",\"S\",\"h\")\n",
    "for(i in 1:length(opts)){\n",
    "heading = paste(\"type=\",opts[i])\n",
    "plot(x, y, type=\"n\", main=heading)\n",
    "lines(x, y, type=opts[i])\n",
    "}"
   ]
  },
  {
   "cell_type": "code",
   "execution_count": 47,
   "metadata": {},
   "outputs": [
    {
     "ename": "ERROR",
     "evalue": "Error in plot(wt, mpg, main = \"Scatterplot \", xlab = \"Car Weight \", ylab = \"Miles Per Gallon \", : object 'wt' not found\n",
     "output_type": "error",
     "traceback": [
      "Error in plot(wt, mpg, main = \"Scatterplot \", xlab = \"Car Weight \", ylab = \"Miles Per Gallon \", : object 'wt' not found\nTraceback:\n",
      "1. plot(wt, mpg, main = \"Scatterplot \", xlab = \"Car Weight \", ylab = \"Miles Per Gallon \", \n .     pch = 22)"
     ]
    }
   ],
   "source": [
    "plot(wt, mpg, main=\"Scatterplot \", xlab=\"Car Weight \", ylab=\"Miles Per Gallon \",pch=22)\n",
    "abline(lm(mpg~wt), col=\"red\") # regression line (y~x)"
   ]
  },
  {
   "cell_type": "code",
   "execution_count": 53,
   "metadata": {},
   "outputs": [
    {
     "name": "stderr",
     "output_type": "stream",
     "text": [
      "The following objects are masked from iris (pos = 3):\n",
      "\n",
      "    Petal.Length, Petal.Width, Sepal.Length, Sepal.Width, Species\n",
      "\n",
      "The following objects are masked from iris (pos = 4):\n",
      "\n",
      "    Petal.Length, Petal.Width, Sepal.Length, Sepal.Width, Species\n",
      "\n",
      "The following objects are masked from iris (pos = 5):\n",
      "\n",
      "    Petal.Length, Petal.Width, Sepal.Length, Sepal.Width, Species\n",
      "\n",
      "The following objects are masked from iris (pos = 6):\n",
      "\n",
      "    Petal.Length, Petal.Width, Sepal.Length, Sepal.Width, Species\n",
      "\n"
     ]
    },
    {
     "data": {
      "image/png": "[encoded data removed]",
      "text/plain": [
       "Plot with title \"3D Scatterplot\""
      ]
     },
     "metadata": {},
     "output_type": "display_data"
    }
   ],
   "source": [
    "# Scatterplot 3D\n",
    "library(scatterplot3d)\n",
    "attach(iris)\n",
    "scatterplot3d(Sepal.Length,Sepal.Width,Petal.Length, main=\"3D Scatterplot\")"
   ]
  },
  {
   "cell_type": "code",
   "execution_count": 57,
   "metadata": {},
   "outputs": [
    {
     "name": "stderr",
     "output_type": "stream",
     "text": [
      "Warning message:\n",
      "\"'scatterplot.matrix' is deprecated.\n",
      "Use 'scatterplotMatrix' instead.\n",
      "See help(\"Deprecated\") and help(\"car-deprecated\").\""
     ]
    },
    {
     "data": {
      "image/png": "[encoded data removed]",
      "text/plain": [
       "plot without title"
      ]
     },
     "metadata": {},
     "output_type": "display_data"
    }
   ],
   "source": [
    "library(car)\n",
    "scatterplot.matrix(~mpg+disp+drat+wt|cyl, data=mtcars,\n",
    "main=\"Three Cylinder Options\")"
   ]
  },
  {
   "cell_type": "code",
   "execution_count": 58,
   "metadata": {},
   "outputs": [
    {
     "data": {
      "image/png": "[encoded data removed]",
      "text/plain": [
       "plot without title"
      ]
     },
     "metadata": {},
     "output_type": "display_data"
    }
   ],
   "source": [
    "pairs(~mpg+disp+drat+wt,data=mtcars, main=\"Scatterplot Matrix\")"
   ]
  },
  {
   "cell_type": "code",
   "execution_count": 59,
   "metadata": {},
   "outputs": [
    {
     "ename": "ERROR",
     "evalue": "Error in eval(predvars, data, env): object 'mpg' not found\n",
     "output_type": "error",
     "traceback": [
      "Error in eval(predvars, data, env): object 'mpg' not found\nTraceback:\n",
      "1. abline(lm(mpg ~ wt), col = \"red\")",
      "2. lm(mpg ~ wt)",
      "3. eval(mf, parent.frame())",
      "4. eval(mf, parent.frame())",
      "5. stats::model.frame(formula = mpg ~ wt, drop.unused.levels = TRUE)",
      "6. model.frame.default(formula = mpg ~ wt, drop.unused.levels = TRUE)",
      "7. eval(predvars, data, env)",
      "8. eval(predvars, data, env)"
     ]
    }
   ],
   "source": [
    "   abline(lm(mpg~wt), col=\"red\") # regression line (y~x)"
   ]
  },
  {
   "cell_type": "code",
   "execution_count": 60,
   "metadata": {},
   "outputs": [
    {
     "ename": "ERROR",
     "evalue": "Error in plot(wt, mpg, main = \"Scatterplot \", xlab = \"Car Weight \", ylab = \"Miles Per Gallon \", : object 'wt' not found\n",
     "output_type": "error",
     "traceback": [
      "Error in plot(wt, mpg, main = \"Scatterplot \", xlab = \"Car Weight \", ylab = \"Miles Per Gallon \", : object 'wt' not found\nTraceback:\n",
      "1. plot(wt, mpg, main = \"Scatterplot \", xlab = \"Car Weight \", ylab = \"Miles Per Gallon \", \n .     pch = 22)"
     ]
    }
   ],
   "source": [
    "# 2D scatter plot\n",
    "plot(wt, mpg, main=\"Scatterplot \", xlab=\"Car Weight \", ylab=\"Miles Per Gallon \",\n",
    "pch=22)"
   ]
  },
  {
   "cell_type": "code",
   "execution_count": null,
   "metadata": {
    "collapsed": true
   },
   "outputs": [],
   "source": []
  }
 ],
 "metadata": {
  "kernelspec": {
   "display_name": "R",
   "language": "R",
   "name": "ir"
  },
  "language_info": {
   "codemirror_mode": "r",
   "file_extension": ".r",
   "mimetype": "text/x-r-source",
   "name": "R",
   "pygments_lexer": "r",
   "version": "3.4.2"
  }
 },
 "nbformat": 4,
 "nbformat_minor": 2
}
