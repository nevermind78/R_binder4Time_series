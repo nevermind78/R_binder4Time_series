{
 "cells": [
  {
   "cell_type": "code",
   "execution_count": null,
   "id": "58bab28c",
   "metadata": {
    "vscode": {
     "languageId": "r"
    }
   },
   "outputs": [],
   "source": [
    "\n",
    "e=rnorm(1500)"
   ]
  },
  {
   "cell_type": "code",
   "execution_count": null,
   "id": "eba62aa8",
   "metadata": {
    "vscode": {
     "languageId": "r"
    }
   },
   "outputs": [],
   "source": []
  },
  {
   "cell_type": "code",
   "execution_count": null,
   "id": "1368c4f2",
   "metadata": {
    "vscode": {
     "languageId": "r"
    }
   },
   "outputs": [],
   "source": [
    "\n",
    "a=c(-1.6,-0.8)"
   ]
  },
  {
   "cell_type": "code",
   "execution_count": null,
   "id": "4acdcc75",
   "metadata": {
    "vscode": {
     "languageId": "r"
    }
   },
   "outputs": [],
   "source": [
    "y=filter(e,filter=a,method=\"recursive\")"
   ]
  },
  {
   "cell_type": "code",
   "execution_count": null,
   "id": "d9659f86",
   "metadata": {
    "vscode": {
     "languageId": "r"
    }
   },
   "outputs": [],
   "source": [
    "\n",
    "ts.plot(y)"
   ]
  },
  {
   "cell_type": "code",
   "execution_count": null,
   "id": "5d41ea9d",
   "metadata": {
    "vscode": {
     "languageId": "r"
    }
   },
   "outputs": [],
   "source": [
    "y=arima.sim(model=list(ar=c(-1.6,-0.8)),n=250)"
   ]
  },
  {
   "cell_type": "code",
   "execution_count": null,
   "id": "f7742aa3",
   "metadata": {
    "vscode": {
     "languageId": "r"
    }
   },
   "outputs": [],
   "source": [
    "ts.plot(y)"
   ]
  },
  {
   "cell_type": "markdown",
   "id": "406cbc7e",
   "metadata": {},
   "source": [
    "# Exercice 1.3\n",
    "1. Generate $n = 100$ observations from the autoregression\n",
    "$x_t = −0.9x_{t−2} + w_t$\n",
    "with $σ_w = 1$.\n",
    "\n",
    "* Next, apply the moving average filter\n",
    "$v_t = \\dfrac{x_{t}+ x_{t−1} + x_{t−2} + x_{t−3} }{4}$\n",
    "to $x_t$ , the data you generated.\n",
    "\n",
    "* Now plot $x_t$ as a line and superimpose $v_t$ as a dashed\n",
    "line.\n",
    "\n",
    "* Comment on the behavior of $x_t$ and how applying the moving average filter\n",
    "changes that behavior.\n",
    "\n",
    "2. Repeat (1) but with $x_t = \\cos(\\frac{2\\pi t}{4})$.\n",
    "\n",
    "3. Repeat (2) but with added $N(0, 1)$ noise,\n",
    "$x_t = \\cos(\\frac{2\\pi t}{4}) + w_t$ .\n",
    "\n",
    "4. Compare and contrast (1)–(3); i.e., how does the moving average change each\n",
    "series."
   ]
  },
  {
   "cell_type": "code",
   "execution_count": null,
   "id": "4b83fed7",
   "metadata": {
    "vscode": {
     "languageId": "r"
    }
   },
   "outputs": [],
   "source": [
    "w <- rnorm(100)\n",
    "xa <- filter(w, filter=c(0, -0.9), method=\"recursive\")\n",
    "va <- filter(xa, filter=c(1/4, 1/4, 1/4, 1/4), method=\"convolution\")\n",
    "xb <- cos(2*pi*(1:100)/4)\n",
    "vb <- filter(xb, filter=c(1/4, 1/4, 1/4, 1/4), method=\"convolution\")\n",
    "xc <- cos(2*pi*(1:100)/4) + w\n",
    "vc <- filter(xc, filter=c(1/4, 1/4, 1/4, 1/4), method=\"convolution\")"
   ]
  },
  {
   "cell_type": "code",
   "execution_count": null,
   "id": "e84d6a5d",
   "metadata": {
    "vscode": {
     "languageId": "r"
    }
   },
   "outputs": [],
   "source": [
    "par(mfcol=c(3,1))\n",
    "#postscript(file=\"stat_153_solutions1_5.eps\")\n",
    "plot(cbind(xa, va), plot.type=\"single\", lty=1:2)\n",
    "plot(cbind(xb, vb), plot.type=\"single\", lty=1:2)\n",
    "plot(cbind(xc, vc), plot.type=\"single\", lty=1:2)"
   ]
  },
  {
   "cell_type": "markdown",
   "id": "c89097e0",
   "metadata": {},
   "source": [
    "# Ex 1.7 \n",
    "For a moving average process of the form\n",
    "$x_t = w_{t−1} + 2w_t + w_{t+1}$ ,\n",
    "where $w_t$ are independent with zero means and variance \n",
    "$\\sigma_w^2$, determine the autoco-\n",
    "variance and autocorrelation functions as a function of lag $h = s − t$ and plot the ACF\n",
    "as a function of $h$"
   ]
  },
  {
   "cell_type": "code",
   "execution_count": null,
   "id": "f0fef2b2",
   "metadata": {
    "vscode": {
     "languageId": "r"
    }
   },
   "outputs": [],
   "source": [
    "w <- rnorm(102)\n",
    "x <- filter(w, filter=c(1, 2, 1), method=\"convolution\")[2:101]\n",
    "#postscript(file=\"stat_153_solutions1_6.eps\")\n",
    "a <- acf(x, type=\"correlation\")\n",
    "dev.off()\n",
    "print(a$acf)"
   ]
  },
  {
   "cell_type": "code",
   "execution_count": null,
   "id": "25ae7a03",
   "metadata": {
    "vscode": {
     "languageId": "r"
    }
   },
   "outputs": [],
   "source": [
    "source(\"https://edoras.sdsu.edu/~babailey/stat672/vitcap.R\")"
   ]
  },
  {
   "cell_type": "code",
   "execution_count": null,
   "id": "7fa6554c",
   "metadata": {
    "vscode": {
     "languageId": "r"
    }
   },
   "outputs": [],
   "source": [
    "vitcap"
   ]
  },
  {
   "cell_type": "code",
   "execution_count": null,
   "id": "c4f482fd",
   "metadata": {
    "vscode": {
     "languageId": "r"
    }
   },
   "outputs": [],
   "source": []
  }
 ],
 "metadata": {
  "kernelspec": {
   "display_name": "R",
   "language": "R",
   "name": "ir"
  },
  "language_info": {
   "codemirror_mode": "r",
   "file_extension": ".r",
   "mimetype": "text/x-r-source",
   "name": "R",
   "pygments_lexer": "r",
   "version": "4.2.0"
  }
 },
 "nbformat": 4,
 "nbformat_minor": 5
}
